{
 "metadata": {
  "language_info": {
   "codemirror_mode": {
    "name": "ipython",
    "version": 3
   },
   "file_extension": ".py",
   "mimetype": "text/x-python",
   "name": "python",
   "nbconvert_exporter": "python",
   "pygments_lexer": "ipython3",
   "version": "3.8.2-final"
  },
  "orig_nbformat": 2,
  "kernelspec": {
   "name": "python_defaultSpec_1597904039899",
   "display_name": "Python 3.8.2 32-bit"
  }
 },
 "nbformat": 4,
 "nbformat_minor": 2,
 "cells": [
  {
   "cell_type": "code",
   "execution_count": 1,
   "metadata": {
    "tags": []
   },
   "outputs": [
    {
     "output_type": "stream",
     "name": "stdout",
     "text": "0 1 2"
    }
   ],
   "source": [
    "for i in range(3):\n",
    "    print(i, end=\" \")"
   ]
  },
  {
   "cell_type": "code",
   "execution_count": 2,
   "metadata": {
    "tags": []
   },
   "outputs": [
    {
     "output_type": "stream",
     "name": "stdout",
     "text": "1 2 3"
    }
   ],
   "source": [
    "for j in [1,2,3]:\n",
    "    print(j, end=\" \")"
   ]
  },
  {
   "cell_type": "code",
   "execution_count": 4,
   "metadata": {},
   "outputs": [
    {
     "output_type": "execute_result",
     "data": {
      "text/plain": "0"
     },
     "metadata": {},
     "execution_count": 4
    }
   ],
   "source": [
    "itr =  iter([0, 1, 2])\n",
    "\n",
    "next(itr)"
   ]
  },
  {
   "cell_type": "code",
   "execution_count": 5,
   "metadata": {},
   "outputs": [
    {
     "output_type": "execute_result",
     "data": {
      "text/plain": "1"
     },
     "metadata": {},
     "execution_count": 5
    }
   ],
   "source": [
    "next(itr)"
   ]
  },
  {
   "cell_type": "code",
   "execution_count": 6,
   "metadata": {},
   "outputs": [
    {
     "output_type": "execute_result",
     "data": {
      "text/plain": "2"
     },
     "metadata": {},
     "execution_count": 6
    }
   ],
   "source": [
    "next(itr)"
   ]
  },
  {
   "cell_type": "code",
   "execution_count": 7,
   "metadata": {},
   "outputs": [
    {
     "output_type": "error",
     "ename": "StopIteration",
     "evalue": "",
     "traceback": [
      "\u001b[1;31m---------------------------------------------------------------------------\u001b[0m",
      "\u001b[1;31mStopIteration\u001b[0m                             Traceback (most recent call last)",
      "\u001b[1;32m<ipython-input-7-6693cc261707>\u001b[0m in \u001b[0;36m<module>\u001b[1;34m\u001b[0m\n\u001b[1;32m----> 1\u001b[1;33m \u001b[0mnext\u001b[0m\u001b[1;33m(\u001b[0m\u001b[0mitr\u001b[0m\u001b[1;33m)\u001b[0m\u001b[1;33m\u001b[0m\u001b[1;33m\u001b[0m\u001b[0m\n\u001b[0m",
      "\u001b[1;31mStopIteration\u001b[0m: "
     ]
    }
   ],
   "source": [
    "next(itr)"
   ]
  },
  {
   "cell_type": "code",
   "execution_count": 9,
   "metadata": {
    "tags": []
   },
   "outputs": [
    {
     "output_type": "stream",
     "name": "stdout",
     "text": "0\n1\n2\nつぎはありません\n"
    }
   ],
   "source": [
    "itr = iter(range(3))\n",
    "d = \"つぎはありません\"\n",
    "print(next(itr, d))\n",
    "print(next(itr, d))\n",
    "print(next(itr, d))\n",
    "print(next(itr, d))"
   ]
  },
  {
   "cell_type": "code",
   "execution_count": 17,
   "metadata": {
    "tags": []
   },
   "outputs": [
    {
     "output_type": "stream",
     "name": "stdout",
     "text": "s p a m"
    }
   ],
   "source": [
    "class myiterator:\n",
    "    def __init__(self, data):\n",
    "        self.data = data\n",
    "        self.index = 0\n",
    "\n",
    "    def __iter__(self):\n",
    "        return self\n",
    "\n",
    "    def __next__(self):\n",
    "        if self.index == len(self.data):\n",
    "            raise StopIteration()\n",
    "        value = self.data[self.index]\n",
    "        self.index = self.index + 1\n",
    "        return value\n",
    "itr = myiterator(\"spam\")\n",
    "for char in itr:\n",
    "    print(char, end=\" \")\n"
   ]
  },
  {
   "cell_type": "code",
   "execution_count": 14,
   "metadata": {
    "tags": []
   },
   "outputs": [
    {
     "output_type": "stream",
     "name": "stdout",
     "text": "m a p s"
    }
   ],
   "source": [
    "class Reverse:\n",
    "\n",
    "    def  __init__(self, data):\n",
    "        self.data = data\n",
    "        self.index = len(data)\n",
    "\n",
    "    def __iter__(self):\n",
    "        return self\n",
    "\n",
    "    def __next__(self):\n",
    "        if self.index == 0:\n",
    "            raise StopIteration\n",
    "        self.index = self.index - 1\n",
    "        return self.data[self.index]\n",
    "\n",
    "rev = Reverse('spam')\n",
    "for char in rev:\n",
    "    print(char, end=\" \")"
   ]
  },
  {
   "cell_type": "code",
   "execution_count": 13,
   "metadata": {
    "tags": []
   },
   "outputs": [
    {
     "output_type": "stream",
     "name": "stdout",
     "text": "f l o g"
    }
   ],
   "source": [
    "def reverse(data):\n",
    "    ret = []\n",
    "    for index in range(len(data)-1, -1, -1):\n",
    "        ret.append(data[index])\n",
    "    return ret\n",
    "\n",
    "for char in reverse('golf'):\n",
    "    print(char, end=\" \")"
   ]
  },
  {
   "cell_type": "code",
   "execution_count": 18,
   "metadata": {
    "tags": []
   },
   "outputs": [
    {
     "output_type": "stream",
     "name": "stdout",
     "text": "f l o g"
    }
   ],
   "source": [
    "def reverse(data):\n",
    "    for index in range(len(data) -1, -1, -1):\n",
    "        yield data[index]\n",
    "\n",
    "for char in reverse('golf'):\n",
    "    print(char, end=\" \")"
   ]
  },
  {
   "cell_type": "code",
   "execution_count": 19,
   "metadata": {},
   "outputs": [
    {
     "output_type": "error",
     "ename": "SyntaxError",
     "evalue": "cannot assign to literal (<ipython-input-19-78e10de68c08>, line 2)",
     "traceback": [
      "\u001b[1;36m  File \u001b[1;32m\"<ipython-input-19-78e10de68c08>\"\u001b[1;36m, line \u001b[1;32m2\u001b[0m\n\u001b[1;33m    1 = [data[i] for i in range(len(data) -1, -1, -1)]\u001b[0m\n\u001b[1;37m    ^\u001b[0m\n\u001b[1;31mSyntaxError\u001b[0m\u001b[1;31m:\u001b[0m cannot assign to literal\n"
     ]
    }
   ],
   "source": [
    "data = 'golf'\n",
    "1 = [data[i] for i in range(len(data) -1, -1, -1)]\n",
    "1"
   ]
  },
  {
   "cell_type": "code",
   "execution_count": 20,
   "metadata": {},
   "outputs": [
    {
     "output_type": "error",
     "ename": "NameError",
     "evalue": "name 'data' is not defined",
     "traceback": [
      "\u001b[1;31m---------------------------------------------------------------------------\u001b[0m",
      "\u001b[1;31mNameError\u001b[0m                                 Traceback (most recent call last)",
      "\u001b[1;32m<ipython-input-20-796bb43f34a3>\u001b[0m in \u001b[0;36m<module>\u001b[1;34m\u001b[0m\n\u001b[1;32m----> 1\u001b[1;33m \u001b[0mg\u001b[0m \u001b[1;33m=\u001b[0m \u001b[1;33m(\u001b[0m\u001b[0mdata\u001b[0m\u001b[1;33m[\u001b[0m\u001b[0mi\u001b[0m\u001b[1;33m]\u001b[0m \u001b[1;32mfor\u001b[0m \u001b[0mi\u001b[0m \u001b[1;32min\u001b[0m \u001b[0mrange\u001b[0m\u001b[1;33m(\u001b[0m\u001b[0mlen\u001b[0m\u001b[1;33m(\u001b[0m\u001b[0mdata\u001b[0m\u001b[1;33m)\u001b[0m\u001b[1;33m-\u001b[0m\u001b[1;36m1\u001b[0m\u001b[1;33m,\u001b[0m \u001b[1;33m-\u001b[0m\u001b[1;36m1\u001b[0m\u001b[1;33m,\u001b[0m \u001b[1;33m-\u001b[0m\u001b[1;36m1\u001b[0m\u001b[1;33m)\u001b[0m\u001b[1;33m)\u001b[0m\u001b[1;33m\u001b[0m\u001b[1;33m\u001b[0m\u001b[0m\n\u001b[0m\u001b[0;32m      2\u001b[0m \u001b[0mg\u001b[0m\u001b[1;33m\u001b[0m\u001b[1;33m\u001b[0m\u001b[0m\n",
      "\u001b[1;31mNameError\u001b[0m: name 'data' is not defined"
     ]
    }
   ],
   "source": [
    "g = (data[i] for i in range(len(data)-1, -1, -1))\n",
    "g"
   ]
  },
  {
   "cell_type": "code",
   "execution_count": 21,
   "metadata": {},
   "outputs": [
    {
     "output_type": "error",
     "ename": "NameError",
     "evalue": "name 'g' is not defined",
     "traceback": [
      "\u001b[1;31m---------------------------------------------------------------------------\u001b[0m",
      "\u001b[1;31mNameError\u001b[0m                                 Traceback (most recent call last)",
      "\u001b[1;32m<ipython-input-21-d072df5e8a7c>\u001b[0m in \u001b[0;36m<module>\u001b[1;34m\u001b[0m\n\u001b[1;32m----> 1\u001b[1;33m \u001b[0mlist\u001b[0m\u001b[1;33m(\u001b[0m\u001b[0mg\u001b[0m\u001b[1;33m)\u001b[0m\u001b[1;33m\u001b[0m\u001b[1;33m\u001b[0m\u001b[0m\n\u001b[0m",
      "\u001b[1;31mNameError\u001b[0m: name 'g' is not defined"
     ]
    }
   ],
   "source": [
    "list(g)"
   ]
  },
  {
   "cell_type": "code",
   "execution_count": 22,
   "metadata": {},
   "outputs": [],
   "source": [
    "import random\n",
    "random.seed(1)\n",
    "megs = [\"hi\", \"hello\", \"good morning\", \"good night\", \"see you later\",\n",
    "\"how are you\", \"heve a good day\"]\n",
    "with open(\"some.txt\",\"w\") as f:\n",
    "    for i in range(1000000):\n",
    "        f.write(\"{}, {}\\n\".format(i, random.choice(megs)))"
   ]
  },
  {
   "cell_type": "code",
   "execution_count": 23,
   "metadata": {},
   "outputs": [
    {
     "output_type": "error",
     "ename": "SyntaxError",
     "evalue": "invalid syntax (<ipython-input-23-d2d9737497f4>, line 2)",
     "traceback": [
      "\u001b[1;36m  File \u001b[1;32m\"<ipython-input-23-d2d9737497f4>\"\u001b[1;36m, line \u001b[1;32m2\u001b[0m\n\u001b[1;33m    1, see you later\u001b[0m\n\u001b[1;37m           ^\u001b[0m\n\u001b[1;31mSyntaxError\u001b[0m\u001b[1;31m:\u001b[0m invalid syntax\n"
     ]
    }
   ],
   "source": [
    "0, hello\n",
    "1, see you later\n",
    "2, have a good day\n",
    "\n",
    "999999, hi"
   ]
  },
  {
   "cell_type": "code",
   "execution_count": 26,
   "metadata": {
    "tags": []
   },
   "outputs": [
    {
     "output_type": "stream",
     "name": "stdout",
     "text": "0, hello\n1, see you later\n2, heve a good day\nWall time: 399 ms\n"
    }
   ],
   "source": [
    "%%time\n",
    "f = open('some.txt')\n",
    "body = f.read()\n",
    "lines = body.split('\\n')\n",
    "print('\\n'.join(lines[:3]))"
   ]
  },
  {
   "cell_type": "code",
   "execution_count": 27,
   "metadata": {
    "tags": []
   },
   "outputs": [
    {
     "output_type": "stream",
     "name": "stdout",
     "text": "0, hello\n1, see you later\n"
    }
   ],
   "source": [
    "f = open('some.txt')\n",
    "print(next(f), end=\"\")\n",
    "print(next(f), end=\"\")\n",
    "f.close()"
   ]
  },
  {
   "cell_type": "code",
   "execution_count": 28,
   "metadata": {
    "tags": []
   },
   "outputs": [
    {
     "output_type": "stream",
     "name": "stdout",
     "text": "111"
    }
   ],
   "source": [
    "f = open('some.txt')\n",
    "c = 0\n",
    "for i in f:\n",
    "    print(1, end='')\n",
    "    if c == 2:\n",
    "        break\n",
    "    c += 1\n",
    "f.close()"
   ]
  },
  {
   "cell_type": "code",
   "execution_count": 29,
   "metadata": {},
   "outputs": [
    {
     "output_type": "error",
     "ename": "SyntaxError",
     "evalue": "cannot assign to literal (<unknown>, line 3)",
     "traceback": [
      "Traceback \u001b[1;36m(most recent call last)\u001b[0m:\n",
      "  File \u001b[0;32m\"C:\\Users\\HashibaRyouhei\\AppData\\Local\\Programs\\Python\\Python38-32\\lib\\site-packages\\IPython\\core\\interactiveshell.py\"\u001b[0m, line \u001b[0;32m3331\u001b[0m, in \u001b[0;35mrun_code\u001b[0m\n    exec(code_obj, self.user_global_ns, self.user_ns)\n",
      "  File \u001b[0;32m\"<ipython-input-29-377730785eeb>\"\u001b[0m, line \u001b[0;32m1\u001b[0m, in \u001b[0;35m<module>\u001b[0m\n    get_ipython().run_cell_magic('time', '', \"f = open('some.txt')\\nc = 0\\nfor 1 in f:\\n    print(1, end='')\\n    if c == 2:\\n        break\\n    c += 1\\n    f.close()\\n\")\n",
      "  File \u001b[0;32m\"C:\\Users\\HashibaRyouhei\\AppData\\Local\\Programs\\Python\\Python38-32\\lib\\site-packages\\IPython\\core\\interactiveshell.py\"\u001b[0m, line \u001b[0;32m2362\u001b[0m, in \u001b[0;35mrun_cell_magic\u001b[0m\n    result = fn(*args, **kwargs)\n",
      "  File \u001b[0;32m\"<decorator-gen-62>\"\u001b[0m, line \u001b[0;32m2\u001b[0m, in \u001b[0;35mtime\u001b[0m\n",
      "  File \u001b[0;32m\"C:\\Users\\HashibaRyouhei\\AppData\\Local\\Programs\\Python\\Python38-32\\lib\\site-packages\\IPython\\core\\magic.py\"\u001b[0m, line \u001b[0;32m187\u001b[0m, in \u001b[0;35m<lambda>\u001b[0m\n    call = lambda f, *a, **k: f(*a, **k)\n",
      "  File \u001b[0;32m\"C:\\Users\\HashibaRyouhei\\AppData\\Local\\Programs\\Python\\Python38-32\\lib\\site-packages\\IPython\\core\\magics\\execution.py\"\u001b[0m, line \u001b[0;32m1268\u001b[0m, in \u001b[0;35mtime\u001b[0m\n    expr_ast = self.shell.compile.ast_parse(expr)\n",
      "\u001b[1;36m  File \u001b[1;32m\"C:\\Users\\HashibaRyouhei\\AppData\\Local\\Programs\\Python\\Python38-32\\lib\\site-packages\\IPython\\core\\compilerop.py\"\u001b[1;36m, line \u001b[1;32m101\u001b[1;36m, in \u001b[1;35mast_parse\u001b[1;36m\u001b[0m\n\u001b[1;33m    return compile(source, filename, symbol, self.flags | PyCF_ONLY_AST, 1)\u001b[0m\n",
      "\u001b[1;36m  File \u001b[1;32m\"<unknown>\"\u001b[1;36m, line \u001b[1;32m3\u001b[0m\n\u001b[1;31mSyntaxError\u001b[0m\u001b[1;31m:\u001b[0m cannot assign to literal\n"
     ]
    }
   ],
   "source": [
    "%%time\n",
    "f = open('some.txt')\n",
    "c = 0\n",
    "for 1 in f:\n",
    "    print(1, end='')\n",
    "    if c == 2:\n",
    "        break\n",
    "    c += 1\n",
    "    f.close()"
   ]
  },
  {
   "cell_type": "code",
   "execution_count": 30,
   "metadata": {},
   "outputs": [
    {
     "output_type": "error",
     "ename": "SyntaxError",
     "evalue": "cannot assign to literal (<unknown>, line 2)",
     "traceback": [
      "Traceback \u001b[1;36m(most recent call last)\u001b[0m:\n",
      "  File \u001b[0;32m\"C:\\Users\\HashibaRyouhei\\AppData\\Local\\Programs\\Python\\Python38-32\\lib\\site-packages\\IPython\\core\\interactiveshell.py\"\u001b[0m, line \u001b[0;32m3331\u001b[0m, in \u001b[0;35mrun_code\u001b[0m\n    exec(code_obj, self.user_global_ns, self.user_ns)\n",
      "  File \u001b[0;32m\"<ipython-input-30-4b0b5642c73f>\"\u001b[0m, line \u001b[0;32m1\u001b[0m, in \u001b[0;35m<module>\u001b[0m\n    get_ipython().run_cell_magic('time', '', \"with open('some.txt', 'r') as f:\\n    for c, 1 in enumerate(f):\\n        print(1, end='')\\n        if c==2:\\n            break\\n\")\n",
      "  File \u001b[0;32m\"C:\\Users\\HashibaRyouhei\\AppData\\Local\\Programs\\Python\\Python38-32\\lib\\site-packages\\IPython\\core\\interactiveshell.py\"\u001b[0m, line \u001b[0;32m2362\u001b[0m, in \u001b[0;35mrun_cell_magic\u001b[0m\n    result = fn(*args, **kwargs)\n",
      "  File \u001b[0;32m\"<decorator-gen-62>\"\u001b[0m, line \u001b[0;32m2\u001b[0m, in \u001b[0;35mtime\u001b[0m\n",
      "  File \u001b[0;32m\"C:\\Users\\HashibaRyouhei\\AppData\\Local\\Programs\\Python\\Python38-32\\lib\\site-packages\\IPython\\core\\magic.py\"\u001b[0m, line \u001b[0;32m187\u001b[0m, in \u001b[0;35m<lambda>\u001b[0m\n    call = lambda f, *a, **k: f(*a, **k)\n",
      "  File \u001b[0;32m\"C:\\Users\\HashibaRyouhei\\AppData\\Local\\Programs\\Python\\Python38-32\\lib\\site-packages\\IPython\\core\\magics\\execution.py\"\u001b[0m, line \u001b[0;32m1268\u001b[0m, in \u001b[0;35mtime\u001b[0m\n    expr_ast = self.shell.compile.ast_parse(expr)\n",
      "\u001b[1;36m  File \u001b[1;32m\"C:\\Users\\HashibaRyouhei\\AppData\\Local\\Programs\\Python\\Python38-32\\lib\\site-packages\\IPython\\core\\compilerop.py\"\u001b[1;36m, line \u001b[1;32m101\u001b[1;36m, in \u001b[1;35mast_parse\u001b[1;36m\u001b[0m\n\u001b[1;33m    return compile(source, filename, symbol, self.flags | PyCF_ONLY_AST, 1)\u001b[0m\n",
      "\u001b[1;36m  File \u001b[1;32m\"<unknown>\"\u001b[1;36m, line \u001b[1;32m2\u001b[0m\n\u001b[1;31mSyntaxError\u001b[0m\u001b[1;31m:\u001b[0m cannot assign to literal\n"
     ]
    }
   ],
   "source": [
    "%%time\n",
    "with open('some.txt', 'r') as f:\n",
    "    for c, 1 in enumerate(f):\n",
    "        print(1, end='')\n",
    "        if c==2:\n",
    "            break"
   ]
  },
  {
   "cell_type": "code",
   "execution_count": 32,
   "metadata": {
    "tags": [
     "outputPrepend"
    ]
   },
   "outputs": [
    {
     "output_type": "stream",
     "name": "stdout",
     "text": "ood morning', '999080, heve a good day', '999081, good night', '999082, hi', '999083, hi', '999084, hi', '999085, heve a good day', '999086, heve a good day', '999087, how are you', '999088, how are you', '999089, good night', '999090, hello', '999091, how are you', '999092, hi', '999093, hi', '999094, good night', '999095, good night', '999096, heve a good day', '999097, good night', '999098, how are you', '999099, good morning', '999100, how are you', '999101, hello', '999102, good morning', '999103, good morning', '999104, good night', '999105, good morning', '999106, hello', '999107, how are you', '999108, good night', '999109, good night', '999110, hi', '999111, see you later', '999112, hi', '999113, hello', '999114, how are you', '999115, good night', '999116, good night', '999117, good night', '999118, hello', '999119, good night', '999120, hi', '999121, hi', '999122, see you later', '999123, hello', '999124, hi', '999125, good morning', '999126, see you later', '999127, hello', '999128, hi', '999129, hello', '999130, good morning', '999131, good night', '999132, how are you', '999133, good night', '999134, how are you', '999135, good morning', '999136, heve a good day', '999137, hello', '999138, good night', '999139, good night', '999140, hello', '999141, how are you', '999142, heve a good day', '999143, hi', '999144, how are you', '999145, good morning', '999146, hello', '999147, hello', '999148, hi', '999149, good morning', '999150, good morning', '999151, see you later', '999152, see you later', '999153, hi', '999154, heve a good day', '999155, heve a good day', '999156, see you later', '999157, how are you', '999158, hello', '999159, hi', '999160, see you later', '999161, hi', '999162, how are you', '999163, see you later', '999164, see you later', '999165, hi', '999166, heve a good day', '999167, heve a good day', '999168, how are you', '999169, hi', '999170, good morning', '999171, see you later', '999172, good morning', '999173, heve a good day', '999174, heve a good day', '999175, how are you', '999176, how are you', '999177, good night', '999178, good morning', '999179, good night', '999180, hello', '999181, hello', '999182, how are you', '999183, good morning', '999184, good night', '999185, hello', '999186, hello', '999187, hello', '999188, see you later', '999189, hello', '999190, hi', '999191, hi', '999192, good night', '999193, good morning', '999194, see you later', '999195, good morning', '999196, good morning', '999197, good night', '999198, heve a good day', '999199, hi', '999200, hi', '999201, hello', '999202, good night', '999203, hi', '999204, hello', '999205, good morning', '999206, see you later', '999207, hello', '999208, hello', '999209, see you later', '999210, good night', '999211, hi', '999212, good night', '999213, hello', '999214, heve a good day', '999215, good morning', '999216, good morning', '999217, hello', '999218, heve a good day', '999219, good night', '999220, heve a good day', '999221, see you later', '999222, hello', '999223, hello', '999224, hi', '999225, good morning', '999226, how are you', '999227, hello', '999228, good night', '999229, hi', '999230, hello', '999231, how are you', '999232, heve a good day', '999233, good night', '999234, hello', '999235, how are you', '999236, good night', '999237, good night', '999238, hello', '999239, good night', '999240, hi', '999241, hi', '999242, good morning', '999243, see you later', '999244, heve a good day', '999245, see you later', '999246, hello', '999247, hello', '999248, how are you', '999249, hello', '999250, how are you', '999251, hi', '999252, hello', '999253, good night', '999254, hello', '999255, hi', '999256, hi', '999257, heve a good day', '999258, see you later', '999259, hello', '999260, heve a good day', '999261, good morning', '999262, how are you', '999263, good morning', '999264, see you later', '999265, hello', '999266, see you later', '999267, hi', '999268, good morning', '999269, hi', '999270, hello', '999271, hello', '999272, heve a good day', '999273, hello', '999274, good morning', '999275, how are you', '999276, good morning', '999277, heve a good day', '999278, see you later', '999279, good night', '999280, see you later', '999281, see you later', '999282, heve a good day', '999283, hello', '999284, hello', '999285, how are you', '999286, good morning', '999287, good night', '999288, heve a good day', '999289, good night', '999290, hi', '999291, good morning', '999292, hi', '999293, good morning', '999294, hi', '999295, good morning', '999296, heve a good day', '999297, hello', '999298, good morning', '999299, good night', '999300, heve a good day', '999301, good night', '999302, heve a good day', '999303, hello', '999304, good morning', '999305, hi', '999306, see you later', '999307, hi', '999308, good morning', '999309, hi', '999310, heve a good day', '999311, good night', '999312, good morning', '999313, heve a good day', '999314, hello', '999315, hi', '999316, heve a good day', '999317, good night', '999318, good night', '999319, good night', '999320, good night', '999321, hi', '999322, good night', '999323, hi', '999324, heve a good day', '999325, good morning', '999326, heve a good day', '999327, hi', '999328, hello', '999329, good morning', '999330, hello', '999331, hello', '999332, how are you', '999333, hi', '999334, hello', '999335, how are you', '999336, good morning', '999337, how are you', '999338, hi', '999339, hi', '999340, hello', '999341, hi', '999342, hi', '999343, hello', '999344, heve a good day', '999345, good morning', '999346, good morning', '999347, heve a good day', '999348, good morning', '999349, heve a good day', '999350, heve a good day', '999351, see you later', '999352, good morning', '999353, how are you', '999354, hi', '999355, heve a good day', '999356, heve a good day', '999357, good morning', '999358, hello', '999359, good night', '999360, see you later', '999361, heve a good day', '999362, see you later', '999363, hello', '999364, hello', '999365, see you later', '999366, good night', '999367, hello', '999368, good morning', '999369, how are you', '999370, hello', '999371, hello', '999372, hello', '999373, heve a good day', '999374, good night', '999375, good night', '999376, good morning', '999377, hello', '999378, hi', '999379, good morning', '999380, how are you', '999381, hi', '999382, heve a good day', '999383, hello', '999384, hello', '999385, heve a good day', '999386, hi', '999387, good morning', '999388, see you later', '999389, see you later', '999390, heve a good day', '999391, how are you', '999392, how are you', '999393, see you later', '999394, heve a good day', '999395, good morning', '999396, see you later', '999397, hello', '999398, see you later', '999399, see you later', '999400, hi', '999401, hello', '999402, hello', '999403, good morning', '999404, hello', '999405, good morning', '999406, heve a good day', '999407, good morning', '999408, see you later', '999409, see you later', '999410, hi', '999411, hi', '999412, see you later', '999413, how are you', '999414, heve a good day', '999415, hello', '999416, see you later', '999417, see you later', '999418, hello', '999419, hello', '999420, see you later', '999421, see you later', '999422, see you later', '999423, good morning', '999424, hi', '999425, hi', '999426, good morning', '999427, hi', '999428, heve a good day', '999429, how are you', '999430, see you later', '999431, heve a good day', '999432, see you later', '999433, hi', '999434, see you later', '999435, good morning', '999436, how are you', '999437, good morning', '999438, how are you', '999439, how are you', '999440, good night', '999441, see you later', '999442, how are you', '999443, good morning', '999444, see you later', '999445, heve a good day', '999446, how are you', '999447, good morning', '999448, hello', '999449, see you later', '999450, good morning', '999451, hello', '999452, how are you', '999453, good morning', '999454, hi', '999455, good night', '999456, hi', '999457, good morning', '999458, hello', '999459, hi', '999460, good night', '999461, hello', '999462, good night', '999463, heve a good day', '999464, hi', '999465, good morning', '999466, good night', '999467, hello', '999468, good morning', '999469, good night', '999470, hello', '999471, hello', '999472, hello', '999473, hello', '999474, good morning', '999475, good night', '999476, good morning', '999477, hi', '999478, see you later', '999479, heve a good day', '999480, how are you', '999481, heve a good day', '999482, how are you', '999483, hello', '999484, heve a good day', '999485, hello', '999486, good morning', '999487, hello', '999488, how are you', '999489, hello', '999490, see you later', '999491, see you later', '999492, good night', '999493, hello', '999494, heve a good day', '999495, good night', '999496, hi', '999497, good morning', '999498, heve a good day', '999499, good night', '999500, how are you', '999501, hello', '999502, hello', '999503, heve a good day', '999504, how are you', '999505, hi', '999506, how are you', '999507, heve a good day', '999508, see you later', '999509, good morning', '999510, good morning', '999511, see you later', '999512, hi', '999513, how are you', '999514, heve a good day', '999515, how are you', '999516, how are you', '999517, heve a good day', '999518, heve a good day', '999519, hi', '999520, good night', '999521, hi', '999522, heve a good day', '999523, heve a good day', '999524, heve a good day', '999525, hello', '999526, good morning', '999527, hello', '999528, hello', '999529, hello', '999530, hello', '999531, how are you', '999532, how are you', '999533, good night', '999534, how are you', '999535, hi', '999536, good night', '999537, heve a good day', '999538, hi', '999539, heve a good day', '999540, how are you', '999541, see you later', '999542, good morning', '999543, good night', '999544, heve a good day', '999545, good morning', '999546, see you later', '999547, good night', '999548, how are you', '999549, how are you', '999550, hi', '999551, heve a good day', '999552, good morning', '999553, how are you', '999554, how are you', '999555, how are you', '999556, hi', '999557, good night', '999558, heve a good day', '999559, hi', '999560, good morning', '999561, good morning', '999562, heve a good day', '999563, heve a good day', '999564, how are you', '999565, hi', '999566, hello', '999567, good morning', '999568, see you later', '999569, hi', '999570, heve a good day', '999571, heve a good day', '999572, heve a good day', '999573, how are you', '999574, heve a good day', '999575, hi', '999576, hello', '999577, heve a good day', '999578, hello', '999579, hi', '999580, good night', '999581, see you later', '999582, how are you', '999583, how are you', '999584, how are you', '999585, see you later', '999586, how are you', '999587, good morning', '999588, heve a good day', '999589, good morning', '999590, hi', '999591, hi', '999592, see you later', '999593, good morning', '999594, good morning', '999595, good night', '999596, see you later', '999597, hi', '999598, good night', '999599, hi', '999600, see you later', '999601, good morning', '999602, see you later', '999603, heve a good day', '999604, hi', '999605, hi', '999606, hello', '999607, heve a good day', '999608, heve a good day', '999609, good morning', '999610, good morning', '999611, hello', '999612, hi', '999613, heve a good day', '999614, hi', '999615, good night', '999616, good night', '999617, hello', '999618, heve a good day', '999619, hi', '999620, how are you', '999621, see you later', '999622, heve a good day', '999623, good night', '999624, how are you', '999625, good morning', '999626, see you later', '999627, how are you', '999628, heve a good day', '999629, good morning', '999630, hi', '999631, hi', '999632, hello', '999633, good night', '999634, heve a good day', '999635, how are you', '999636, good night', '999637, heve a good day', '999638, hello', '999639, see you later', '999640, heve a good day', '999641, good night', '999642, heve a good day', '999643, how are you', '999644, hi', '999645, hello', '999646, hi', '999647, how are you', '999648, see you later', '999649, see you later', '999650, hi', '999651, good morning', '999652, good morning', '999653, heve a good day', '999654, see you later', '999655, heve a good day', '999656, good night', '999657, see you later', '999658, good morning', '999659, how are you', '999660, good night', '999661, good morning', '999662, how are you', '999663, how are you', '999664, good morning', '999665, hi', '999666, see you later', '999667, heve a good day', '999668, see you later', '999669, how are you', '999670, hello', '999671, hello', '999672, how are you', '999673, hello', '999674, heve a good day', '999675, good night', '999676, how are you', '999677, hi', '999678, see you later', '999679, hi', '999680, good morning', '999681, how are you', '999682, good night', '999683, hello', '999684, hi', '999685, hi', '999686, good morning', '999687, see you later', '999688, see you later', '999689, see you later', '999690, how are you', '999691, heve a good day', '999692, hi', '999693, good night', '999694, hi', '999695, heve a good day', '999696, see you later', '999697, heve a good day', '999698, how are you', '999699, hello', '999700, hello', '999701, see you later', '999702, see you later', '999703, good morning', '999704, how are you', '999705, see you later', '999706, heve a good day', '999707, how are you', '999708, hi', '999709, good morning', '999710, hi', '999711, hi', '999712, how are you', '999713, hello', '999714, good morning', '999715, heve a good day', '999716, hi', '999717, see you later', '999718, how are you', '999719, hi', '999720, heve a good day', '999721, heve a good day', '999722, hello', '999723, how are you', '999724, good night', '999725, hello', '999726, hello', '999727, heve a good day', '999728, hi', '999729, hello', '999730, heve a good day', '999731, hello', '999732, hi', '999733, see you later', '999734, see you later', '999735, heve a good day', '999736, hi', '999737, hello', '999738, good morning', '999739, hi', '999740, hi', '999741, see you later', '999742, see you later', '999743, see you later', '999744, good night', '999745, heve a good day', '999746, see you later', '999747, good night', '999748, hello', '999749, see you later', '999750, hello', '999751, good night', '999752, hello', '999753, hi', '999754, good morning', '999755, how are you', '999756, good night', '999757, hello', '999758, good night', '999759, heve a good day', '999760, see you later', '999761, hi', '999762, how are you', '999763, see you later', '999764, heve a good day', '999765, good night', '999766, good night', '999767, how are you', '999768, heve a good day', '999769, hello', '999770, hi', '999771, good night', '999772, good night', '999773, how are you', '999774, good night', '999775, heve a good day', '999776, good night', '999777, see you later', '999778, how are you', '999779, hi', '999780, hello', '999781, good night', '999782, see you later', '999783, good night', '999784, good morning', '999785, hello', '999786, see you later', '999787, how are you', '999788, hello', '999789, see you later', '999790, heve a good day', '999791, good night', '999792, how are you', '999793, hello', '999794, see you later', '999795, how are you', '999796, heve a good day', '999797, hello', '999798, how are you', '999799, heve a good day', '999800, good night', '999801, how are you', '999802, hi', '999803, hi', '999804, hello', '999805, good night', '999806, hi', '999807, hello', '999808, good morning', '999809, hello', '999810, hello', '999811, hello', '999812, good night', '999813, heve a good day', '999814, how are you', '999815, see you later', '999816, hello', '999817, heve a good day', '999818, see you later', '999819, hi', '999820, heve a good day', '999821, hi', '999822, good night', '999823, how are you', '999824, how are you', '999825, heve a good day', '999826, how are you', '999827, hello', '999828, good morning', '999829, good night', '999830, good night', '999831, see you later', '999832, hello', '999833, how are you', '999834, heve a good day', '999835, good night', '999836, hi', '999837, good night', '999838, good night', '999839, see you later', '999840, hi', '999841, how are you', '999842, hi', '999843, good night', '999844, heve a good day', '999845, heve a good day', '999846, how are you', '999847, good morning', '999848, how are you', '999849, good morning', '999850, hi', '999851, heve a good day', '999852, how are you', '999853, hello', '999854, hi', '999855, see you later', '999856, how are you', '999857, hello', '999858, good morning', '999859, see you later', '999860, how are you', '999861, hi', '999862, how are you', '999863, see you later', '999864, hi', '999865, good morning', '999866, good morning', '999867, hi', '999868, good night', '999869, good night', '999870, good night', '999871, how are you', '999872, how are you', '999873, how are you', '999874, hi', '999875, good morning', '999876, heve a good day', '999877, how are you', '999878, hi', '999879, hi', '999880, heve a good day', '999881, how are you', '999882, heve a good day', '999883, see you later', '999884, good night', '999885, good night', '999886, heve a good day', '999887, heve a good day', '999888, good night', '999889, heve a good day', '999890, hi', '999891, see you later', '999892, good night', '999893, good morning', '999894, good night', '999895, heve a good day', '999896, hi', '999897, heve a good day', '999898, how are you', '999899, good night', '999900, hi', '999901, heve a good day', '999902, good morning', '999903, how are you', '999904, heve a good day', '999905, see you later', '999906, good night', '999907, hello', '999908, hi', '999909, hello', '999910, how are you', '999911, good morning', '999912, good night', '999913, how are you', '999914, how are you', '999915, how are you', '999916, good morning', '999917, good morning', '999918, hi', '999919, see you later', '999920, hi', '999921, hello', '999922, see you later', '999923, good night', '999924, see you later', '999925, see you later', '999926, good morning', '999927, how are you', '999928, hello', '999929, heve a good day', '999930, see you later', '999931, hi', '999932, hi', '999933, see you later', '999934, hello', '999935, good morning', '999936, hello', '999937, hi', '999938, hi', '999939, heve a good day', '999940, heve a good day', '999941, hello', '999942, heve a good day', '999943, see you later', '999944, see you later', '999945, heve a good day', '999946, heve a good day', '999947, heve a good day', '999948, see you later', '999949, hi', '999950, hi', '999951, how are you', '999952, heve a good day', '999953, heve a good day', '999954, see you later', '999955, hi', '999956, how are you', '999957, see you later', '999958, good night', '999959, how are you', '999960, hi', '999961, see you later', '999962, good night', '999963, hi', '999964, how are you', '999965, how are you', '999966, hello', '999967, heve a good day', '999968, good morning', '999969, hello', '999970, how are you', '999971, heve a good day', '999972, hi', '999973, how are you', '999974, hello', '999975, see you later', '999976, good morning', '999977, hi', '999978, good night', '999979, how are you', '999980, good night', '999981, good night', '999982, good night', '999983, see you later', '999984, heve a good day', '999985, hello', '999986, hello', '999987, how are you', '999988, hi', '999989, heve a good day', '999990, good morning', '999991, heve a good day', '999992, hello', '999993, how are you', '999994, good night', '999995, good morning', '999996, hello', '999997, hello', '999998, hello', '999999, hi', '', '0', ',', ' ', 'h', 'e', 'l', 'l', 'o', '\\n', '1', ',', ' ', 's', 'e', 'e', ' ', 'y', 'o', 'u', ' ', 'l', 'a', 't', 'e', 'r', '\\n', '2', ',', ' ', 'h', 'e', 'v', 'e', ' ', 'a', ' ', 'g', 'o', 'o', 'd', ' ', 'd', 'a', 'y', '\\n']\nWall time: 274 ms\n"
    }
   ],
   "source": [
    "%%time\n",
    "f = open('some.txt')\n",
    "lins = ''\n",
    "for i in range(3):\n",
    "    lines += f.readline()\n",
    "print(lines)\n",
    "f.close()"
   ]
  },
  {
   "cell_type": "code",
   "execution_count": 33,
   "metadata": {},
   "outputs": [],
   "source": [
    "def gen_prime(x=2):\n",
    "    while True:\n",
    "        for i in range(2, x):\n",
    "            if x % i == 0:\n",
    "                break\n",
    "            else:\n",
    "                yield x\n",
    "            x += 1\n"
   ]
  },
  {
   "cell_type": "code",
   "execution_count": 34,
   "metadata": {},
   "outputs": [],
   "source": [
    "import math\n",
    "def gen_prime1(x=2):\n",
    "    while True:\n",
    "        for i in range(2, int(math.sqrt(x))+1):\n",
    "            if x % i == 0:\n",
    "                break\n",
    "        else:\n",
    "            yield x\n",
    "        x += 1"
   ]
  },
  {
   "cell_type": "code",
   "execution_count": null,
   "metadata": {},
   "outputs": [],
   "source": [
    "i = gen_prime()\n",
    "for c in range(10):\n",
    "    print(next(i), end=\" \")\n",
    "print(\"\")"
   ]
  },
  {
   "cell_type": "code",
   "execution_count": null,
   "metadata": {},
   "outputs": [],
   "source": [
    "%%time\n",
    "i = gen_prime(100000)\n",
    "for c in range(10):\n",
    "    print(next(i), end=\" \")\n",
    "print(\"\")"
   ]
  },
  {
   "cell_type": "code",
   "execution_count": null,
   "metadata": {},
   "outputs": [],
   "source": [
    "%%time\n",
    "i = gen_prime1(100000)\n",
    "for c in range(10):\n",
    "    print(next(i), end=\" \")\n",
    "print(\"\")"
   ]
  },
  {
   "cell_type": "code",
   "execution_count": null,
   "metadata": {},
   "outputs": [],
   "source": []
  }
 ]
}