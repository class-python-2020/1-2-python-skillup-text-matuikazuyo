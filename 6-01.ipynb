{
 "metadata": {
  "language_info": {
   "codemirror_mode": {
    "name": "ipython",
    "version": 3
   },
   "file_extension": ".py",
   "mimetype": "text/x-python",
   "name": "python",
   "nbconvert_exporter": "python",
   "pygments_lexer": "ipython3",
   "version": "3.8.2-final"
  },
  "orig_nbformat": 2,
  "kernelspec": {
   "name": "python_defaultSpec_1597835616609",
   "display_name": "Python 3.8.2 32-bit"
  }
 },
 "nbformat": 4,
 "nbformat_minor": 2,
 "cells": [
  {
   "cell_type": "code",
   "execution_count": 3,
   "metadata": {},
   "outputs": [],
   "source": [
    "class car:\n",
    "    pass"
   ]
  },
  {
   "cell_type": "code",
   "execution_count": 4,
   "metadata": {},
   "outputs": [
    {
     "output_type": "execute_result",
     "data": {
      "text/plain": "__main__.car"
     },
     "metadata": {},
     "execution_count": 4
    }
   ],
   "source": [
    "my_car = car()\n",
    "type(my_car)"
   ]
  },
  {
   "cell_type": "code",
   "execution_count": 5,
   "metadata": {},
   "outputs": [],
   "source": [
    "class car:\n",
    "    num_wheels = 4"
   ]
  },
  {
   "cell_type": "code",
   "execution_count": 6,
   "metadata": {},
   "outputs": [
    {
     "output_type": "execute_result",
     "data": {
      "text/plain": "4"
     },
     "metadata": {},
     "execution_count": 6
    }
   ],
   "source": [
    "my_car = car()\n",
    "my_car.num_wheels"
   ]
  },
  {
   "cell_type": "code",
   "execution_count": 7,
   "metadata": {},
   "outputs": [],
   "source": [
    "class car:\n",
    "    weight = 4000\n",
    "    num_wheels = 4\n",
    "\n",
    "    def calc_weight_per_wheel(self):\n",
    "        return 1000.0"
   ]
  },
  {
   "cell_type": "code",
   "execution_count": 8,
   "metadata": {},
   "outputs": [
    {
     "output_type": "execute_result",
     "data": {
      "text/plain": "1000.0"
     },
     "metadata": {},
     "execution_count": 8
    }
   ],
   "source": [
    "my_car = car()\n",
    "my_car.calc_weight_per_wheel()"
   ]
  },
  {
   "cell_type": "code",
   "execution_count": 11,
   "metadata": {},
   "outputs": [],
   "source": [
    "class car:\n",
    "    weight = 4000\n",
    "    num_wheels = 4\n",
    "\n",
    "    def calc_weight_per_wheel(self):\n",
    "        return self.weight / self.num_wheels"
   ]
  },
  {
   "cell_type": "code",
   "execution_count": 12,
   "metadata": {},
   "outputs": [
    {
     "output_type": "execute_result",
     "data": {
      "text/plain": "1000.0"
     },
     "metadata": {},
     "execution_count": 12
    }
   ],
   "source": [
    "my_car = car()\n",
    "my_car.calc_weight_per_wheel()"
   ]
  },
  {
   "cell_type": "code",
   "execution_count": 13,
   "metadata": {},
   "outputs": [],
   "source": [
    "class car:\n",
    "    weight = 4000\n",
    "    num_wheels = 4\n",
    "\n",
    "    def __init__(self, car_name='noname'):\n",
    "        self.name = car_name\n",
    "\n",
    "    def calc_weight_per_wheel(self):\n",
    "        return self.weight / self.num_wheels\n",
    "\n",
    "default_car = car()"
   ]
  },
  {
   "cell_type": "code",
   "execution_count": 14,
   "metadata": {},
   "outputs": [
    {
     "output_type": "execute_result",
     "data": {
      "text/plain": "'noname'"
     },
     "metadata": {},
     "execution_count": 14
    }
   ],
   "source": [
    "default_car.name"
   ]
  },
  {
   "cell_type": "code",
   "execution_count": 15,
   "metadata": {},
   "outputs": [
    {
     "output_type": "execute_result",
     "data": {
      "text/plain": "'delorean'"
     },
     "metadata": {},
     "execution_count": 15
    }
   ],
   "source": [
    "my_car = car('delorean')\n",
    "my_car.name"
   ]
  },
  {
   "cell_type": "code",
   "execution_count": 16,
   "metadata": {},
   "outputs": [],
   "source": [
    "class cat:\n",
    "    cry = \"にゃー\"\n",
    "    legs = 4\n",
    "    is_animal = True"
   ]
  },
  {
   "cell_type": "code",
   "execution_count": 17,
   "metadata": {},
   "outputs": [
    {
     "output_type": "execute_result",
     "data": {
      "text/plain": "'鳴き声: にゃー, 足の数: 4, 動物: True'"
     },
     "metadata": {},
     "execution_count": 17
    }
   ],
   "source": [
    "tama = cat()\n",
    "\"鳴き声: {}, 足の数: {}, 動物: {}\".format(tama.cry, tama.legs, tama.is_animal)"
   ]
  },
  {
   "cell_type": "code",
   "execution_count": 20,
   "metadata": {},
   "outputs": [],
   "source": [
    "class person:\n",
    "    def __init__(self,\n",
    "                 name = '',\n",
    "                 nationality = '',\n",
    "                 birth = '',\n",
    "                 address = ''):\n",
    "                 self.name = name\n",
    "                 self.nationality = nationality\n",
    "                 self.birth = birth\n",
    "                 self.address = address\n",
    "\n",
    "    def show_attributes(self):\n",
    "        print(\"名前:\", self.name)\n",
    "        print(\"国籍:\", self.nationality)\n",
    "        print(\"生まれた年:\", self.birth)\n",
    "        print(\"住んでいる所:\", self.address)"
   ]
  },
  {
   "cell_type": "code",
   "execution_count": 21,
   "metadata": {
    "tags": []
   },
   "outputs": [
    {
     "output_type": "stream",
     "name": "stdout",
     "text": "名前: 輝夜姫\n国籍: 日本\n生まれた年: 685\n住んでいる所: 静岡県富士市\n"
    }
   ],
   "source": [
    "heroine = person('輝夜姫', '日本', '685', '静岡県富士市')\n",
    "heroine.show_attributes()"
   ]
  },
  {
   "cell_type": "code",
   "execution_count": 23,
   "metadata": {
    "tags": []
   },
   "outputs": [
    {
     "output_type": "stream",
     "name": "stdout",
     "text": "名前: 金太郎\n国籍: 日本\n生まれた年: 956\n住んでいる所: 静岡県駿東郡小山町\n"
    }
   ],
   "source": [
    "hero = person('金太郎', '日本', '956', '静岡県駿東郡小山町')\n",
    "hero.show_attributes()"
   ]
  },
  {
   "cell_type": "code",
   "execution_count": null,
   "metadata": {},
   "outputs": [],
   "source": []
  }
 ]
}